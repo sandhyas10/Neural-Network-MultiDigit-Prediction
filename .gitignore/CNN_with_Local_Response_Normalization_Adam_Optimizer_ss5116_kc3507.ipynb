{
 "cells": [
  {
   "cell_type": "markdown",
   "metadata": {},
   "source": [
    "## CNN WITH LOCAL RESPONSE NORMALIZATION \n",
    "\n",
    "This notebook shows a CNN model with [CONV -> RELU -> POOL -> Local Response Norm] X 2 -> Dropout] X 2 -> FC Layer -> Dropout -> FC Layer\n",
    "\n",
    "Test accuracy-> 47.97%\n",
    "\n",
    "Data-> (54,54,3) "
   ]
  },
  {
   "cell_type": "code",
   "execution_count": 1,
   "metadata": {
    "collapsed": true
   },
   "outputs": [],
   "source": [
    "import h5py\n",
    "import tensorflow as tf\n",
    "import numpy as np\n",
    "import time\n",
    "import os"
   ]
  },
  {
   "cell_type": "markdown",
   "metadata": {},
   "source": [
    "#### Change file name and location below to the name and location of the file you would like to load\n"
   ]
  },
  {
   "cell_type": "code",
   "execution_count": 2,
   "metadata": {
    "collapsed": true
   },
   "outputs": [],
   "source": [
    "data = h5py.File('data/digits_54_54_3.h5','r')\n"
   ]
  },
  {
   "cell_type": "code",
   "execution_count": 3,
   "metadata": {
    "collapsed": true
   },
   "outputs": [],
   "source": [
    "# Reading training data\n",
    "X_train=data['train_dataset'][:]\n",
    "y_train=data['train_labels'][:]\n",
    "X_val=data['valid_dataset'][:]\n",
    "y_val=data['valid_labels'][:]\n",
    "X_test=data['test_dataset'][:]\n",
    "y_test=data['test_labels'][:]\n",
    "data.close()"
   ]
  },
  {
   "cell_type": "code",
   "execution_count": 4,
   "metadata": {},
   "outputs": [
    {
     "name": "stdout",
     "output_type": "stream",
     "text": [
      "Training set (29401, 54, 54, 3) (29401, 5)\n",
      "Validation set (4000, 54, 54, 3) (4000, 5)\n",
      "Test set (13068, 54, 54, 3) (13068, 5)\n"
     ]
    }
   ],
   "source": [
    "print('Training set', X_train.shape, y_train.shape)\n",
    "print('Validation set', X_val.shape, y_val.shape)\n",
    "print('Test set', X_test.shape, y_test.shape)"
   ]
  },
  {
   "cell_type": "markdown",
   "metadata": {},
   "source": [
    "#### Change file name and location below to the name and location of the file you would like to load\n"
   ]
  },
  {
   "cell_type": "code",
   "execution_count": 5,
   "metadata": {
    "collapsed": true
   },
   "outputs": [],
   "source": [
    "# Reading extra data\n",
    "data = h5py.File('data/digits_54_54_3.h5','r')\n",
    "X_extra=data['extra_dataset'][:]\n",
    "y_extra=data['extra_labels'][:]\n",
    "X_val_extra=data['valid_extra_dataset'][:]\n",
    "y_val_extra=data['valid_extra_labels'][:]\n",
    "data.close()"
   ]
  },
  {
   "cell_type": "code",
   "execution_count": 6,
   "metadata": {
    "collapsed": true
   },
   "outputs": [],
   "source": [
    "# Extracting 20000 samples from extra\n",
    "X_extra1=X_extra[0:20000]\n",
    "y_extra1=y_extra[0:20000]\n",
    "X_val_extra1=X_val_extra[0:2000]\n",
    "y_val_extra1=y_val_extra[0:2000]"
   ]
  },
  {
   "cell_type": "code",
   "execution_count": 7,
   "metadata": {},
   "outputs": [
    {
     "name": "stdout",
     "output_type": "stream",
     "text": [
      "Train set (49401, 54, 54, 3) (49401, 5)\n",
      "Validation set (6000, 54, 54, 3) (6000, 5)\n"
     ]
    }
   ],
   "source": [
    "# Concatenating the extra data with training\n",
    "X_train = np.concatenate([X_train,X_extra1])\n",
    "y_train = np.concatenate([y_train,y_extra1])\n",
    "X_val = np.concatenate([X_val,X_val_extra1])\n",
    "y_val = np.concatenate([y_val,y_val_extra1])\n",
    "print('Train set', X_train.shape, y_train.shape)\n",
    "print('Validation set', X_val.shape, y_val.shape)"
   ]
  },
  {
   "cell_type": "code",
   "execution_count": 5,
   "metadata": {
    "collapsed": true
   },
   "outputs": [],
   "source": [
    "# Finding number of channels, labels and digits\n",
    "num_channels=X_train.shape[3]\n",
    "num_digits,num_labels=y_train.shape[1],len(np.unique(y_train))"
   ]
  },
  {
   "cell_type": "code",
   "execution_count": 6,
   "metadata": {},
   "outputs": [
    {
     "name": "stdout",
     "output_type": "stream",
     "text": [
      "Training set (33401, 54, 54, 3) (33401, 5)\n"
     ]
    }
   ],
   "source": [
    "# Concatenating training and validation for  training\n",
    "X_train = np.concatenate([X_train, X_val])\n",
    "y_train = np.concatenate([y_train, y_val])\n",
    "print('Training set', X_train.shape, y_train.shape)"
   ]
  },
  {
   "cell_type": "code",
   "execution_count": 8,
   "metadata": {
    "collapsed": true
   },
   "outputs": [],
   "source": [
    "# Convolutional layer and Fully-connected layer definition\n",
    "\n",
    "import tensorflow as tf\n",
    "import time\n",
    "\n",
    "\n",
    "class conv_layer(object):\n",
    "    def __init__(self, input_x, in_channel, out_channel, kernel_shape,pooling,rand_seed=235,first=False,index=0):\n",
    "        \"\"\"\n",
    "        :param input_x: The input of the conv layer. Should be a 4D array like (batch_num, img_len, img_len, channel_num)\n",
    "        :param in_channel: The 4-th demension (channel number) of input matrix. For example, in_channel=3 means the input contains 3 channels.\n",
    "        :param out_channel: The 4-th demension (channel number) of output matrix. For example, out_channel=5 means the output contains 5 channels (feature maps).\n",
    "        :param kernel_shape: the shape of the kernel. For example, kernal_shape = 3 means you have a 3*3 kernel.\n",
    "        :param rand_seed: An integer that presents the random seed used to generate the initial parameter value.\n",
    "        :param index: The index of the layer. It is used for naming only.\n",
    "        \"\"\"\n",
    "             \n",
    "        assert len(input_x.shape) == 4 and input_x.shape[1] == input_x.shape[2] and input_x.shape[3] == in_channel\n",
    "\n",
    "        with tf.variable_scope('conv_layer_%d' % index):\n",
    "            with tf.name_scope('conv_kernel'):\n",
    "                w_shape = [kernel_shape, kernel_shape, in_channel, out_channel]\n",
    "                weight = tf.get_variable(name='conv_kernel_%d' % index, shape=w_shape,\n",
    "                                         initializer=tf.contrib.layers.xavier_initializer_conv2d())\n",
    "                self.weight = weight\n",
    "\n",
    "            with tf.variable_scope('conv_bias'):\n",
    "                b_shape = [out_channel]\n",
    "                bias = tf.get_variable(name='conv_bias_%d' % index, shape=b_shape,\n",
    "                                       initializer=tf.contrib.layers.xavier_initializer_conv2d())\n",
    "                self.bias = bias\n",
    "\n",
    "            conv_out = tf.nn.conv2d(input_x, weight, strides=[1, 2, 2, 1],padding=\"SAME\")\n",
    "            conv_out = tf.nn.relu(conv_out+bias)\n",
    "                            \n",
    "            if pooling==True:\n",
    "                conv_out = tf.nn.max_pool(conv_out, [1, 2, 2, 1], [1, 2, 2, 1],'SAME')\n",
    "            \n",
    "            conv_out=tf.nn.local_response_normalization(conv_out,depth_radius=3,bias=1,alpha=1,beta=0.5,name=\"lrn\")\n",
    "\n",
    "            self.cell_out = conv_out\n",
    "\n",
    "\n",
    "    def output(self):\n",
    "        return self.cell_out\n",
    "\n",
    "\n",
    "\n",
    "class fc_layer(object):\n",
    "    def __init__(self, input_x, in_size, out_size, rand_seed,activation_function=None,relu=False, index=0):\n",
    "        \"\"\"\n",
    "        :param input_x: The input of the FC layer. It should be a flatten vector.\n",
    "        :param in_size: The length of input vector.\n",
    "        :param out_size: The length of output vector.\n",
    "        :param rand_seed: An integer that presents the random seed used to generate the initial parameter value.\n",
    "        :param keep_prob: The probability of dropout. Default set by 1.0 (no drop-out applied)\n",
    "        :param activation_function: The activation function for the output. Default set to None.\n",
    "        :param index: The index of the layer. It is used for naming only.\n",
    "\n",
    "        \"\"\"\n",
    "        with tf.variable_scope('fc_layer_%d' % index):\n",
    "            with tf.name_scope('fc_kernel'):\n",
    "                w_shape = [in_size, out_size]\n",
    "                weight = tf.get_variable(name='fc_kernel_%d' % index, shape=w_shape,\n",
    "                                         initializer=tf.contrib.layers.xavier_initializer_conv2d())\n",
    "                self.weight = weight\n",
    "\n",
    "            with tf.variable_scope('fc_kernel'):\n",
    "                b_shape = [out_size]\n",
    "                bias = tf.get_variable(name='fc_bias_%d' % index, shape=b_shape,\n",
    "                                       initializer=tf.contrib.layers.xavier_initializer_conv2d())\n",
    "                self.bias = bias\n",
    "\n",
    "            cell_out = tf.add(tf.matmul(input_x, weight), bias)\n",
    "            if relu is True:\n",
    "                cell_out = tf.nn.relu(cell_out+bias)\n",
    "            \n",
    "            self.cell_out = cell_out\n",
    "\n",
    "\n",
    "    def output(self):\n",
    "        return self.cell_out\n",
    "\n",
    "\n",
    "\n"
   ]
  },
  {
   "cell_type": "code",
   "execution_count": 9,
   "metadata": {
    "collapsed": true
   },
   "outputs": [],
   "source": [
    "# Network defintion\n",
    "def LeNet(input_x, input_y, nfilter_1, nfilter_2,nfilter_3, nfilter_4,\n",
    "        filter_1,filter_2,filter_3,filter_4, img_len=32, num_channels=1, l2_norm=0.01, seed=235):\n",
    "    \n",
    "    pooling=False\n",
    "\n",
    "    # convolutional layer1 with Lcoal Response Normalization\n",
    "    conv_layer_0 = conv_layer(input_x=input_x,\n",
    "                              in_channel=num_channels,\n",
    "                              out_channel=nfilter_1,\n",
    "                              kernel_shape=filter_1,\n",
    "                              pooling=False,\n",
    "                              rand_seed=seed,first=True, index=0)\n",
    "    # convolutional layer2 with Lcoal Response Normalization\n",
    "    conv_layer_1 = conv_layer(input_x=conv_layer_0.output(),\n",
    "                              in_channel=nfilter_1,\n",
    "                              out_channel=nfilter_2,\n",
    "                              kernel_shape=filter_2,\n",
    "                              pooling=True,\n",
    "                              rand_seed=seed,first=False,index=1)\n",
    "    \n",
    "    dropout_layer_0 = tf.nn.dropout(conv_layer_1.output(), keep_prob=0.9)\n",
    "\n",
    "    # convolutional layer3 with Lcoal Response Normalization\n",
    "    conv_layer_2 = conv_layer(input_x=dropout_layer_0,\n",
    "                              in_channel=nfilter_2,\n",
    "                              out_channel=nfilter_3,\n",
    "                              kernel_shape=filter_3,\n",
    "                              pooling=False,\n",
    "                              rand_seed=seed,first=False,index=2)\n",
    "    # convolutional layer4 with Lcoal Response Normalization\n",
    "    conv_layer_3 = conv_layer(input_x=conv_layer_2.output(),\n",
    "                              in_channel=nfilter_3,\n",
    "                              out_channel=nfilter_4,\n",
    "                              kernel_shape=filter_4,\n",
    "                              pooling=True,\n",
    "                              rand_seed=seed,first=False,index=3)\n",
    "    \n",
    "    dropout_layer_1 = tf.nn.dropout(conv_layer_3.output(), keep_prob=0.9)\n",
    "\n",
    "    # flatten\n",
    "    pool_shape = conv_layer_3.output().get_shape()\n",
    "    img_vector_length = pool_shape[1].value * pool_shape[2].value * pool_shape[3].value\n",
    "    flatten = tf.reshape(conv_layer_3.output(), shape=[-1, img_vector_length])\n",
    "\n",
    "    \n",
    "    # fc layer 1\n",
    "    fc_layer_0 = fc_layer(input_x=flatten,\n",
    "                          in_size=img_vector_length,\n",
    "                          out_size=fclayer1_size,\n",
    "                          rand_seed=seed,\n",
    "                          activation_function=tf.nn.relu,\n",
    "                          index=0,\n",
    "                          relu=True)\n",
    "    \n",
    "    dropout_layer_2 = tf.nn.dropout(fc_layer_0.output(), keep_prob=0.5)\n",
    "    \n",
    "     # fc layer 2\n",
    "    fc_layer_1 = fc_layer(input_x=fc_layer_0.output(),\n",
    "                          in_size=fclayer1_size,\n",
    "                          out_size=fclayer2_size,\n",
    "                          rand_seed=seed,\n",
    "                          activation_function=None,\n",
    "                          index=1,\n",
    "                          relu=False)\n",
    "\n",
    "    # Output of the net -- softmax \n",
    "    \n",
    "    # Digit 1\n",
    "    logits_1=fc_layer(input_x=fc_layer_1.output(),\n",
    "                          in_size=fclayer2_size,\n",
    "                          out_size=num_labels,\n",
    "                          rand_seed=seed,\n",
    "                          activation_function=tf.nn.relu,index=2,\n",
    "                          relu=False)\n",
    "    # Digit 2\n",
    "    logits_2=fc_layer(input_x=fc_layer_1.output(),\n",
    "                          in_size=fclayer2_size,\n",
    "                          out_size=num_labels,\n",
    "                          rand_seed=seed,\n",
    "                          activation_function=tf.nn.relu,index=3,\n",
    "                          relu=False)\n",
    "    # Digit 3\n",
    "    logits_3=fc_layer(input_x=fc_layer_1.output(),\n",
    "                          in_size=fclayer2_size,\n",
    "                          out_size=num_labels,\n",
    "                          rand_seed=seed,\n",
    "                          activation_function=tf.nn.relu,index=4,\n",
    "                          relu=False)\n",
    "    # Digit 4\n",
    "    logits_4=fc_layer(input_x=fc_layer_1.output(),\n",
    "                          in_size=fclayer2_size,\n",
    "                          out_size=num_labels,\n",
    "                          rand_seed=seed,\n",
    "                          activation_function=tf.nn.relu,index=5,\n",
    "                          relu=False)\n",
    "    # Digit 5\n",
    "    logits_5=fc_layer(input_x=fc_layer_1.output(),\n",
    "                          in_size=fclayer2_size,\n",
    "                          out_size=num_labels,\n",
    "                          rand_seed=seed,\n",
    "                          activation_function=tf.nn.relu,index=6,\n",
    "                          relu=False)\n",
    "    y_pred = tf.stack([logits_1.output(), logits_2.output(), logits_3.output(), logits_4.output(), logits_5.output()])\n",
    "    y_pred = tf.transpose(tf.argmax(y_pred,axis=2))  \n",
    "    \n",
    "    with tf.name_scope('loss'):\n",
    "        \n",
    "        loss1 = tf.reduce_mean(tf.nn.sparse_softmax_cross_entropy_with_logits(logits=logits_1.output(), labels= input_y[:,0]))\n",
    "        loss2 = tf.reduce_mean(tf.nn.sparse_softmax_cross_entropy_with_logits(logits=logits_2.output(), labels= input_y[:,1]))\n",
    "        loss3 = tf.reduce_mean(tf.nn.sparse_softmax_cross_entropy_with_logits(logits=logits_3.output(), labels= input_y[:,2]))\n",
    "        loss4 = tf.reduce_mean(tf.nn.sparse_softmax_cross_entropy_with_logits(logits=logits_4.output(), labels=input_y[:,3]))\n",
    "        loss5 = tf.reduce_mean(tf.nn.sparse_softmax_cross_entropy_with_logits(logits=logits_5.output(), labels=input_y[:,4]))\n",
    "\n",
    "        # Calculate the total loss for all predictions\n",
    "        loss = loss1 + loss2 + loss3 + loss4 + loss5 \n",
    "        tf.summary.scalar('loss', loss)\n",
    "        print(\"Loss done\")\n",
    "\n",
    "    return y_pred,loss\n",
    "\n",
    "\n",
    "def train_step(loss, learning_rate=1e-3):\n",
    "    \n",
    "    #Optimizer function\n",
    "    with tf.name_scope('train_step'):\n",
    "        global_step = tf.Variable(0, trainable=False)\n",
    "        learning_rate=1e-3\n",
    "        tf.summary.scalar('learning_rate', learning_rate)\n",
    "        step = tf.train.AdamOptimizer(learning_rate).minimize(loss)\n",
    "\n",
    "    return step\n",
    "\n",
    "def evaluate(predictions, labels):\n",
    "    with tf.name_scope('accuracy'):\n",
    "            correct_prediction = tf.equal(predictions, labels)\n",
    "            correct_prediction=tf.cast(correct_prediction, tf.float32)\n",
    "            correct_prediction=tf.reduce_min(correct_prediction,1)\n",
    "            acc=tf.reduce_mean(correct_prediction)\n",
    "            tf.summary.scalar('accuracy', acc)\n",
    "            acc=acc*100\n",
    "    return acc"
   ]
  },
  {
   "cell_type": "code",
   "execution_count": 10,
   "metadata": {
    "collapsed": true
   },
   "outputs": [],
   "source": [
    "# Training function for the LeNet model\n",
    "def training(X_train, y_train, X_val, y_val,X_test,y_test, nfilter_1, nfilter_2,nfilter_3, nfilter_4,filter_1,filter_2,filter_3,filter_4,img_len=32, num_channels=1, l2_norm=0.01, \n",
    "             seed=235,\n",
    "             learning_rate=1e-2,\n",
    "             epoch=20,\n",
    "             batch_size=245,\n",
    "             verbose=False,\n",
    "             pre_trained_model=None):\n",
    "    best_acc_li=[]\n",
    "    all_acc=[]\n",
    "    # Input an doutput placeholders \n",
    "    with tf.name_scope('inputs'):\n",
    "        xs = tf.placeholder(shape=[None, 54, 54, 3], dtype=tf.float32)\n",
    "        ys = tf.placeholder(shape=[None,5 ], dtype=tf.int64)\n",
    "\n",
    "    output, loss = LeNet(xs, ys, nfilter_1, nfilter_2,nfilter_3, nfilter_4,\n",
    "        filter_1,filter_2,filter_3,filter_4,img_len=54, num_channels=3, l2_norm=0.01, seed=235)\n",
    "    print(\"LeNet Done training\")\n",
    "    iters = int(X_train.shape[0] / batch_size)\n",
    "    print('number of batches for training: {}'.format(iters))\n",
    "\n",
    "    step = train_step(loss)\n",
    "    eve = evaluate(output,ys)\n",
    "\n",
    "    iter_total = 0\n",
    "    best_acc = 0\n",
    "    cur_model_name = 'lenet_{}'.format(int(time.time()))\n",
    "\n",
    "    with tf.Session() as sess:\n",
    "        merge = tf.summary.merge_all()\n",
    "\n",
    "        writer = tf.summary.FileWriter(\"log/{}\".format(cur_model_name), sess.graph)\n",
    "        saver = tf.train.Saver()\n",
    "        sess.run(tf.global_variables_initializer())\n",
    "        \n",
    "        # try to restore the pre_trained\n",
    "        if pre_trained_model is not None:\n",
    "            try:\n",
    "                print(\"Load the model from: {}\".format(pre_trained_model))\n",
    "                saver.restore(sess, 'model/{}'.format(pre_trained_model))\n",
    "            except Exception:\n",
    "                print(\"Load model Failed!\")\n",
    "                pass\n",
    "\n",
    "        for epc in range(epoch):\n",
    "            print(\"epoch {} \".format(epc + 1))\n",
    "\n",
    "            for itr in range(iters):\n",
    "                iter_total += 1\n",
    "\n",
    "                training_batch_x = X_train[itr * batch_size: (1 + itr) * batch_size]\n",
    "                training_batch_y = y_train[itr * batch_size: (1 + itr) * batch_size]\n",
    "\n",
    "                _, cur_loss = sess.run([step, loss], feed_dict={xs: training_batch_x, ys: training_batch_y})\n",
    "                \n",
    "               \n",
    "                if iter_total % 500 == 0:\n",
    "                   #Validation after 500 iterations\n",
    "                    valid_acc, merge_result = sess.run([eve, merge], feed_dict={xs: X_val, ys: y_val})\n",
    "                    print(valid_acc)\n",
    "                    if verbose:\n",
    "                        print('{}/{} loss: {} validation accuracy : {}%'.format(\n",
    "                            batch_size * (itr + 1),\n",
    "                            X_train.shape[0],\n",
    "                            cur_loss,\n",
    "                            valid_acc))\n",
    "                    all_acc.append(valid_acc)\n",
    "                    # save the merge result summary\n",
    "                    writer.add_summary(merge_result, iter_total)\n",
    "\n",
    "                    # when achieve the best validation accuracy, we store the model paramters\n",
    "                    if valid_acc > best_acc:\n",
    "                        print('Best validation accuracy! iteration:{} accuracy: {}%'.format(iter_total, valid_acc))\n",
    "                        best_acc = valid_acc\n",
    "                        best_acc_li.append(best_acc)\n",
    "                        saver.save(sess, 'model/{}'.format(cur_model_name))\n",
    "                    # Testing accuracy after each batch\n",
    "                    test_acc = sess.run(eve, feed_dict={xs: X_test, ys: y_test})\n",
    "                    print('Test Accuracy : {}'.format(test_acc))\n",
    "\n",
    "    print(\"Traning ends. The best valid accuracy is {}. Model named {}.\".format(best_acc, cur_model_name))"
   ]
  },
  {
   "cell_type": "code",
   "execution_count": 11,
   "metadata": {
    "collapsed": true
   },
   "outputs": [],
   "source": [
    "\n",
    "# Convolutional layer units\n",
    "filter_1 = filter_2 = filter_3 = filter_4 = 5        \n",
    "nfilter_1 = 48\n",
    "nfilter_2 = 64                 \n",
    "nfilter_3 = 128\n",
    "nfilter_4 = 160         \n",
    "# Fully connected layer units\n",
    "fclayer1_size = fclayer2_size = 3072"
   ]
  },
  {
   "cell_type": "code",
   "execution_count": 12,
   "metadata": {
    "scrolled": false
   },
   "outputs": [
    {
     "name": "stdout",
     "output_type": "stream",
     "text": [
      "Loss done\n",
      "LeNet Done training\n",
      "number of batches for training: 111\n",
      "epoch 1 \n",
      "epoch 2 \n",
      "epoch 3 \n",
      "epoch 4 \n",
      "epoch 5 \n",
      "27.225\n",
      "Best validation accuracy! iteration:500 accuracy: 27.225000381469727%\n",
      "Test Accuracy : 25.443830490112305\n",
      "epoch 6 \n",
      "epoch 7 \n",
      "epoch 8 \n",
      "epoch 9 \n",
      "epoch 10 \n",
      "58.475\n",
      "Best validation accuracy! iteration:1000 accuracy: 58.474998474121094%\n",
      "Test Accuracy : 46.18916320800781\n",
      "epoch 11 \n",
      "epoch 12 \n",
      "epoch 13 \n",
      "epoch 14 \n",
      "61.325\n",
      "Best validation accuracy! iteration:1500 accuracy: 61.32500076293945%\n",
      "Test Accuracy : 48.255279541015625\n",
      "epoch 15 \n",
      "epoch 16 \n",
      "epoch 17 \n",
      "epoch 18 \n",
      "epoch 19 \n",
      "69.825\n",
      "Best validation accuracy! iteration:2000 accuracy: 69.82499694824219%\n",
      "Test Accuracy : 46.91613006591797\n",
      "epoch 20 \n",
      "epoch 21 \n",
      "epoch 22 \n",
      "epoch 23 \n",
      "69.475\n",
      "Test Accuracy : 48.44658660888672\n",
      "epoch 24 \n",
      "epoch 25 \n",
      "epoch 26 \n",
      "epoch 27 \n",
      "epoch 28 \n",
      "77.875\n",
      "Best validation accuracy! iteration:3000 accuracy: 77.875%\n",
      "Test Accuracy : 48.17875671386719\n",
      "epoch 29 \n",
      "epoch 30 \n",
      "epoch 31 \n",
      "epoch 32 \n",
      "75.65\n",
      "Test Accuracy : 49.150596618652344\n",
      "epoch 33 \n",
      "epoch 34 \n",
      "epoch 35 \n",
      "epoch 36 \n",
      "epoch 37 \n",
      "81.95\n",
      "Best validation accuracy! iteration:4000 accuracy: 81.95000457763672%\n",
      "Test Accuracy : 46.6483039855957\n",
      "epoch 38 \n",
      "epoch 39 \n",
      "epoch 40 \n",
      "epoch 41 \n",
      "74.6\n",
      "Test Accuracy : 46.847259521484375\n",
      "epoch 42 \n",
      "epoch 43 \n",
      "epoch 44 \n",
      "epoch 45 \n",
      "epoch 46 \n",
      "86.075\n",
      "Best validation accuracy! iteration:5000 accuracy: 86.07500457763672%\n",
      "Test Accuracy : 48.11753845214844\n",
      "epoch 47 \n",
      "epoch 48 \n",
      "epoch 49 \n",
      "epoch 50 \n",
      "85.85\n",
      "Test Accuracy : 47.88797378540039\n",
      "epoch 51 \n",
      "epoch 52 \n",
      "epoch 53 \n",
      "epoch 54 \n",
      "epoch 55 \n",
      "91.25\n",
      "Best validation accuracy! iteration:6000 accuracy: 91.25%\n",
      "Test Accuracy : 49.36486053466797\n",
      "epoch 56 \n",
      "epoch 57 \n",
      "epoch 58 \n",
      "epoch 59 \n",
      "88.175\n",
      "Test Accuracy : 47.97979736328125\n",
      "epoch 60 \n",
      "Traning ends. The best valid accuracy is 91.25. Model named lenet_1513574650.\n"
     ]
    }
   ],
   "source": [
    "#Call train function\n",
    "temp=time.time()\n",
    "training(X_train, y_train, X_val, y_val, X_test,y_test, nfilter_1, nfilter_2,nfilter_3, nfilter_4,filter_1,filter_2,filter_3,filter_4,img_len=54, num_channels=3, l2_norm=0.01, \n",
    "             seed=235,\n",
    "             learning_rate=1e-3,\n",
    "             epoch=60,\n",
    "             batch_size=300,\n",
    "             verbose=False,\n",
    "             pre_trained_model=None)\n",
    "temp_1=time.time()"
   ]
  },
  {
   "cell_type": "code",
   "execution_count": 13,
   "metadata": {
    "collapsed": true
   },
   "outputs": [],
   "source": [
    "total_time=temp_1-temp"
   ]
  },
  {
   "cell_type": "code",
   "execution_count": 14,
   "metadata": {},
   "outputs": [
    {
     "name": "stdout",
     "output_type": "stream",
     "text": [
      "Time to run 23519.864058971405\n"
     ]
    }
   ],
   "source": [
    "print(\"Time to run {}\".format(total_time))"
   ]
  },
  {
   "cell_type": "code",
   "execution_count": null,
   "metadata": {
    "collapsed": true
   },
   "outputs": [],
   "source": []
  }
 ],
 "metadata": {
  "kernelspec": {
   "display_name": "Python 3",
   "language": "python",
   "name": "python3"
  },
  "language_info": {
   "codemirror_mode": {
    "name": "ipython",
    "version": 3
   },
   "file_extension": ".py",
   "mimetype": "text/x-python",
   "name": "python",
   "nbconvert_exporter": "python",
   "pygments_lexer": "ipython3",
   "version": "3.5.4"
  }
 },
 "nbformat": 4,
 "nbformat_minor": 2
}
